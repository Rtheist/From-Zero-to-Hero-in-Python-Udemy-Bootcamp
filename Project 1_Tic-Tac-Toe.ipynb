{
 "cells": [
  {
   "cell_type": "markdown",
   "metadata": {},
   "source": [
    "# Tic-Tac-Toe\n",
    "\n",
    "Simple Tic-Tac-Toe game"
   ]
  },
  {
   "cell_type": "code",
   "execution_count": 1,
   "metadata": {},
   "outputs": [],
   "source": [
    "# Clear iPython Notebook \n",
    "from IPython.display import clear_output\n",
    "import random\n",
    "\n",
    "# Define global variables\n",
    "theBoard = [' '] * 10   # list of spaces\n",
    "available = [str(num) for num in range(0,10)] # List generator - List Comprehension\n",
    "players = [0,'X','O']   #  players[1] == 'X' и players[-1] == 'O'"
   ]
  },
  {
   "cell_type": "code",
   "execution_count": 2,
   "metadata": {},
   "outputs": [
    {
     "name": "stdout",
     "output_type": "stream",
     "text": [
      "Available   Tic-Tac-Toe\n",
      "  moves\n",
      "\n",
      "  7|8|9         | | \n",
      "  -----        -----\n",
      "  4|5|6         | | \n",
      "  -----        -----\n",
      "  1|2|3         | | \n",
      "\n"
     ]
    }
   ],
   "source": [
    "# Function that displays the game board and available moves \n",
    "def display_board(a,b):\n",
    "    print('Available   Tic-Tac-Toe\\n'+\n",
    "           '  moves\\n\\n  '+\n",
    "          a[7]+'|'+a[8]+'|'+a[9]+'        '+b[7]+'|'+b[8]+'|'+b[9]+'\\n  '+\n",
    "          '-----        -----\\n  '+\n",
    "          a[4]+'|'+a[5]+'|'+a[6]+'        '+b[4]+'|'+b[5]+'|'+b[6]+'\\n  '+\n",
    "          '-----        -----\\n  '+\n",
    "          a[1]+'|'+a[2]+'|'+a[3]+'        '+b[1]+'|'+b[2]+'|'+b[3]+'\\n')\n",
    "display_board(available,theBoard)"
   ]
  },
  {
   "cell_type": "code",
   "execution_count": 3,
   "metadata": {},
   "outputs": [],
   "source": [
    "# Function sets player's mark to selected position and removes this position from the 'Available moves' board\n",
    "def place_marker(avail,board,marker,position):\n",
    "    board[position] = marker\n",
    "    avail[position] = ' '\n",
    "\n",
    "    \n",
    "# Function checks if any of players won\n",
    "def win_check(board,mark):\n",
    "\n",
    "    return ((board[7] ==  board[8] ==  board[9] == mark) or # upper row\n",
    "    (board[4] ==  board[5] ==  board[6] == mark) or # middle row\n",
    "    (board[1] ==  board[2] ==  board[3] == mark) or # lower row\n",
    "    (board[7] ==  board[4] ==  board[1] == mark) or # left column\n",
    "    (board[8] ==  board[5] ==  board[2] == mark) or # middle column\n",
    "    (board[9] ==  board[6] ==  board[3] == mark) or # right column\n",
    "    (board[7] ==  board[5] ==  board[3] == mark) or # 1st diagonal\n",
    "    (board[9] ==  board[5] ==  board[1] == mark)) # 2nd diagonal\n",
    "\n",
    "# Function that randomly selects the first player\n",
    "def random_player():\n",
    "    return random.choice((-1, 1))\n",
    "\n",
    "# Function that checks if position is available\n",
    "def space_check(board,position):\n",
    "    return board[position] == ' '\n",
    "\n",
    "# Function checks if game board is full\n",
    "def full_board_check(board):\n",
    "    return ' ' not in board[1:]\n",
    "\n",
    "# Function that asks player to select the cell (1-9)\n",
    "def player_choice(board,player):\n",
    "    position = 0\n",
    "    \n",
    "    while position not in [1,2,3,4,5,6,7,8,9] or not space_check(board, position):\n",
    "            position = int(input('Player %s, choose a cell: (1-9) '%(player)))\n",
    "            if not space_check(board, position):\n",
    "                print(f\"Sorry, the cell is not available.\\nPlease, try another.\")\n",
    "\n",
    "    return position\n",
    "\n",
    "# Function that asks if players want to play again\n",
    "def replay():\n",
    "    \n",
    "    return input('Do you want to play again? Yes/No: ').lower().startswith('y')"
   ]
  },
  {
   "cell_type": "code",
   "execution_count": 11,
   "metadata": {},
   "outputs": [
    {
     "name": "stdout",
     "output_type": "stream",
     "text": [
      "Available   Tic-Tac-Toe\n",
      "  moves\n",
      "\n",
      "   | |         X|O|X\n",
      "  -----        -----\n",
      "   | |         X|O|O\n",
      "  -----        -----\n",
      "   | |3        O|X| \n",
      "\n"
     ]
    },
    {
     "name": "stdin",
     "output_type": "stream",
     "text": [
      "Player O, choose a cell: (1-9)  3\n"
     ]
    },
    {
     "name": "stdout",
     "output_type": "stream",
     "text": [
      "Available   Tic-Tac-Toe\n",
      "  moves\n",
      "\n",
      "   | |         X|O|X\n",
      "  -----        -----\n",
      "   | |         X|O|O\n",
      "  -----        -----\n",
      "   | |         O|X|O\n",
      "\n",
      "It is a tie!\n"
     ]
    },
    {
     "name": "stdin",
     "output_type": "stream",
     "text": [
      "Do you want to play again? Yes/No:  n\n"
     ]
    }
   ],
   "source": [
    "#Tic-Tac-Toe Game\n",
    "\n",
    "while True:\n",
    "    clear_output()\n",
    "    print('Welcome to Tic-Tac-Toe!')\n",
    "    \n",
    "    toggle = random_player()\n",
    "    player = players[toggle]\n",
    "    print('In this round, Player %s has right of first move!' %(player))\n",
    "    \n",
    "    game_on = True\n",
    "    input('Press Enter to continue')\n",
    "    while game_on:\n",
    "        display_board(available,theBoard)\n",
    "        position = player_choice(theBoard,player)\n",
    "        place_marker(available,theBoard,player,position)\n",
    "\n",
    "        if win_check(theBoard, player):\n",
    "            display_board(available,theBoard)\n",
    "            print('Congratulations! Player '+player+' won!')\n",
    "            game_on = False\n",
    "        else:\n",
    "            if full_board_check(theBoard):\n",
    "                display_board(available,theBoard)\n",
    "                print('It is a tie!')\n",
    "                break\n",
    "            else:\n",
    "                toggle *= -1\n",
    "                player = players[toggle]\n",
    "                clear_output()\n",
    "\n",
    "    # reset the board and available moves list\n",
    "    theBoard = [' '] * 10\n",
    "    available = [str(num) for num in range(0,10)]\n",
    "    \n",
    "    if not replay():\n",
    "        break"
   ]
  },
  {
   "cell_type": "code",
   "execution_count": null,
   "metadata": {
    "collapsed": true,
    "jupyter": {
     "outputs_hidden": true
    }
   },
   "outputs": [],
   "source": []
  }
 ],
 "metadata": {
  "anaconda-cloud": {},
  "kernelspec": {
   "display_name": "Python 3",
   "language": "python",
   "name": "python3"
  },
  "language_info": {
   "codemirror_mode": {
    "name": "ipython",
    "version": 3
   },
   "file_extension": ".py",
   "mimetype": "text/x-python",
   "name": "python",
   "nbconvert_exporter": "python",
   "pygments_lexer": "ipython3",
   "version": "3.7.6"
  }
 },
 "nbformat": 4,
 "nbformat_minor": 4
}
